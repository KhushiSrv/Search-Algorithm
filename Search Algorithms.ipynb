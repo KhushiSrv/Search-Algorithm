{
 "cells": [
  {
   "cell_type": "markdown",
   "metadata": {},
   "source": [
    "Search Algorithms using python\n",
    "1. Binary\n",
    "2. Linear\n",
    "3. DFS\n",
    "4. BFS\n",
    "\n",
    "10000 inputs through random function\n",
    "compare their time complexity"
   ]
  },
  {
   "cell_type": "code",
   "execution_count": 66,
   "metadata": {},
   "outputs": [],
   "source": [
    "def linear_search(find , data):\n",
    "    count_linear = 0\n",
    "    for i in range(1000):\n",
    "        if (data[i] == find):\n",
    "            print(f\"Number found after {count_linear} iteration\")\n",
    "            return\n",
    "        count_linear += 1\n",
    "    print(\"Number not Found in the list\")\n",
    "\n",
    "\n",
    "def binary_search(find , data):\n",
    "    data.sort()\n",
    "    count_binary = 0\n",
    "    start = 0\n",
    "    end = len(data) - 1 \n",
    "    while start <= end:\n",
    "        mid = (start + end) // 2 \n",
    "        if data[mid] == find:\n",
    "            print(f\"Number found after {count_binary} iteration\")\n",
    "            return\n",
    "        count_binary += 1\n",
    "        if data[mid] > find:\n",
    "            end = mid - 1\n",
    "        else:\n",
    "            start = mid + 1\n",
    "    print(\"Number not found in the List\")\n",
    "\n",
    "\n",
    "def breath_first_search(find):\n",
    "    \n",
    "\n",
    "\n",
    "def depth_first_search(find):\n"
   ]
  },
  {
   "cell_type": "code",
   "execution_count": 68,
   "metadata": {},
   "outputs": [],
   "source": [
    "import random\n",
    "data = []\n",
    "\n",
    "for i in range(1000):\n",
    "    n = random.randint(1,1000)\n",
    "    data.append(n)\n"
   ]
  },
  {
   "cell_type": "code",
   "execution_count": 69,
   "metadata": {},
   "outputs": [
    {
     "name": "stdout",
     "output_type": "stream",
     "text": [
      "Integer numbers have been stored in RandomList.csv\n"
     ]
    }
   ],
   "source": [
    "import csv\n",
    "file_name = 'RandomList.csv'\n",
    "with open(file_name, mode='w', newline='') as file:\n",
    "    writer = csv.writer(file)\n",
    "    writer.writerow([\"Number\"])\n",
    "    for num in data:\n",
    "        writer.writerow([num])\n",
    "\n",
    "print(f\"Integer numbers have been stored in {file_name}\")\n"
   ]
  },
  {
   "cell_type": "code",
   "execution_count": 70,
   "metadata": {},
   "outputs": [],
   "source": [
    "import pandas as pd\n",
    "file = pd.read_csv(\"RandomList.csv\")\n"
   ]
  },
  {
   "cell_type": "code",
   "execution_count": 71,
   "metadata": {},
   "outputs": [],
   "source": [
    "data = file['Number'].values"
   ]
  },
  {
   "cell_type": "code",
   "execution_count": 75,
   "metadata": {},
   "outputs": [
    {
     "name": "stdout",
     "output_type": "stream",
     "text": [
      "Number found after 679 iteration\n",
      "Time Taken by Linear Search : 0.0009164810\n",
      "Number found after 8 iteration\n",
      "Time Taken by Binary Search : 0.0000000000\n"
     ]
    }
   ],
   "source": [
    "import time\n",
    "\n",
    "find = float(input(\"Enter the Number to find\"))\n",
    "Start = time.time()\n",
    "linear_search(find , data)\n",
    "End = time.time()\n",
    "linear_time = End-Start\n",
    "print(f\"Time Taken by Linear Search : {linear_time:.10f}\")\n",
    "\n",
    "Start = time.time()\n",
    "binary_search(find , data)\n",
    "End = time.time()\n",
    "Binary_time = End-Start\n",
    "print(f\"Time Taken by Binary Search : {Binary_time:.10f}\")\n",
    "\n",
    "Start = time.time()\n",
    "breath_first_search(find , data)\n",
    "End = time.time()\n",
    "Binary_time = End-Start\n",
    "print(f\"Time Taken by Breath First Search : {Binary_time:.10f}\")\n",
    "\n",
    "Start = time.time()\n",
    "depth_first_search(find , data)\n",
    "End = time.time()\n",
    "Binary_time = End-Start\n",
    "print(f\"Time Taken by Depth First Search : {Binary_time:.10f}\")"
   ]
  }
 ],
 "metadata": {
  "kernelspec": {
   "display_name": "Python 3",
   "language": "python",
   "name": "python3"
  },
  "language_info": {
   "codemirror_mode": {
    "name": "ipython",
    "version": 3
   },
   "file_extension": ".py",
   "mimetype": "text/x-python",
   "name": "python",
   "nbconvert_exporter": "python",
   "pygments_lexer": "ipython3",
   "version": "3.11.4"
  },
  "orig_nbformat": 4
 },
 "nbformat": 4,
 "nbformat_minor": 2
}
